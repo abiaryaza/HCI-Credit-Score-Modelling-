{
  "nbformat": 4,
  "nbformat_minor": 0,
  "metadata": {
    "colab": {
      "name": "HCI-Model",
      "provenance": [],
      "authorship_tag": "ABX9TyP79E7PPcD9DgMPhWe2cEOX",
      "include_colab_link": true
    },
    "kernelspec": {
      "name": "python3",
      "display_name": "Python 3"
    },
    "language_info": {
      "name": "python"
    }
  },
  "cells": [
    {
      "cell_type": "markdown",
      "metadata": {
        "id": "view-in-github",
        "colab_type": "text"
      },
      "source": [
        "<a href=\"https://colab.research.google.com/github/abiaryaza/HCI-Credit-Score-Modelling-/blob/main/HCI_Model.ipynb\" target=\"_parent\"><img src=\"https://colab.research.google.com/assets/colab-badge.svg\" alt=\"Open In Colab\"/></a>"
      ]
    },
    {
      "cell_type": "code",
      "execution_count": 2,
      "metadata": {
        "id": "KD5-mbOg0B2N"
      },
      "outputs": [],
      "source": [
        "import numpy as np\n",
        "import pandas as pd\n",
        "import matplotlib.pyplot as plt\n",
        "import seaborn as sns\n",
        "from sklearn import model_selection\n",
        "from sklearn.linear_model import LogisticRegression\n",
        "from sklearn.cluster import KMeans\n",
        "from sklearn.neighbors import KNeighborsClassifier\n",
        "from sklearn.metrics import f1_score\n",
        "from sklearn.model_selection import train_test_split"
      ]
    },
    {
      "cell_type": "code",
      "source": [
        "data_test = pd.read_csv(\"application_test.csv\")\n",
        "data_train = pd.read_csv(\"application_train.csv\")"
      ],
      "metadata": {
        "id": "l8MbF1GWOcv4"
      },
      "execution_count": 3,
      "outputs": []
    },
    {
      "cell_type": "code",
      "source": [
        "data_train.head()"
      ],
      "metadata": {
        "colab": {
          "base_uri": "https://localhost:8080/",
          "height": 299
        },
        "id": "28LUv7M0P6sp",
        "outputId": "dba8361b-218b-4ce7-d23a-f5a9a2bbe6a5"
      },
      "execution_count": 4,
      "outputs": [
        {
          "output_type": "execute_result",
          "data": {
            "text/plain": [
              "   SK_ID_CURR  TARGET NAME_CONTRACT_TYPE CODE_GENDER FLAG_OWN_CAR  \\\n",
              "0      100002       1         Cash loans           M            N   \n",
              "1      100003       0         Cash loans           F            N   \n",
              "2      100004       0    Revolving loans           M            Y   \n",
              "3      100006       0         Cash loans           F            N   \n",
              "4      100007       0         Cash loans           M            N   \n",
              "\n",
              "  FLAG_OWN_REALTY  CNT_CHILDREN  AMT_INCOME_TOTAL  AMT_CREDIT  AMT_ANNUITY  \\\n",
              "0               Y             0          202500.0    406597.5      24700.5   \n",
              "1               N             0          270000.0   1293502.5      35698.5   \n",
              "2               Y             0           67500.0    135000.0       6750.0   \n",
              "3               Y             0          135000.0    312682.5      29686.5   \n",
              "4               Y             0          121500.0    513000.0      21865.5   \n",
              "\n",
              "   ...  FLAG_DOCUMENT_18 FLAG_DOCUMENT_19 FLAG_DOCUMENT_20 FLAG_DOCUMENT_21  \\\n",
              "0  ...                 0                0                0                0   \n",
              "1  ...                 0                0                0                0   \n",
              "2  ...                 0                0                0                0   \n",
              "3  ...                 0                0                0                0   \n",
              "4  ...                 0                0                0                0   \n",
              "\n",
              "  AMT_REQ_CREDIT_BUREAU_HOUR AMT_REQ_CREDIT_BUREAU_DAY  \\\n",
              "0                        0.0                       0.0   \n",
              "1                        0.0                       0.0   \n",
              "2                        0.0                       0.0   \n",
              "3                        NaN                       NaN   \n",
              "4                        0.0                       0.0   \n",
              "\n",
              "   AMT_REQ_CREDIT_BUREAU_WEEK  AMT_REQ_CREDIT_BUREAU_MON  \\\n",
              "0                         0.0                        0.0   \n",
              "1                         0.0                        0.0   \n",
              "2                         0.0                        0.0   \n",
              "3                         NaN                        NaN   \n",
              "4                         0.0                        0.0   \n",
              "\n",
              "   AMT_REQ_CREDIT_BUREAU_QRT  AMT_REQ_CREDIT_BUREAU_YEAR  \n",
              "0                        0.0                         1.0  \n",
              "1                        0.0                         0.0  \n",
              "2                        0.0                         0.0  \n",
              "3                        NaN                         NaN  \n",
              "4                        0.0                         0.0  \n",
              "\n",
              "[5 rows x 122 columns]"
            ],
            "text/html": [
              "\n",
              "  <div id=\"df-d8ce8982-6936-4b5b-a2b9-3345fe7bd020\">\n",
              "    <div class=\"colab-df-container\">\n",
              "      <div>\n",
              "<style scoped>\n",
              "    .dataframe tbody tr th:only-of-type {\n",
              "        vertical-align: middle;\n",
              "    }\n",
              "\n",
              "    .dataframe tbody tr th {\n",
              "        vertical-align: top;\n",
              "    }\n",
              "\n",
              "    .dataframe thead th {\n",
              "        text-align: right;\n",
              "    }\n",
              "</style>\n",
              "<table border=\"1\" class=\"dataframe\">\n",
              "  <thead>\n",
              "    <tr style=\"text-align: right;\">\n",
              "      <th></th>\n",
              "      <th>SK_ID_CURR</th>\n",
              "      <th>TARGET</th>\n",
              "      <th>NAME_CONTRACT_TYPE</th>\n",
              "      <th>CODE_GENDER</th>\n",
              "      <th>FLAG_OWN_CAR</th>\n",
              "      <th>FLAG_OWN_REALTY</th>\n",
              "      <th>CNT_CHILDREN</th>\n",
              "      <th>AMT_INCOME_TOTAL</th>\n",
              "      <th>AMT_CREDIT</th>\n",
              "      <th>AMT_ANNUITY</th>\n",
              "      <th>...</th>\n",
              "      <th>FLAG_DOCUMENT_18</th>\n",
              "      <th>FLAG_DOCUMENT_19</th>\n",
              "      <th>FLAG_DOCUMENT_20</th>\n",
              "      <th>FLAG_DOCUMENT_21</th>\n",
              "      <th>AMT_REQ_CREDIT_BUREAU_HOUR</th>\n",
              "      <th>AMT_REQ_CREDIT_BUREAU_DAY</th>\n",
              "      <th>AMT_REQ_CREDIT_BUREAU_WEEK</th>\n",
              "      <th>AMT_REQ_CREDIT_BUREAU_MON</th>\n",
              "      <th>AMT_REQ_CREDIT_BUREAU_QRT</th>\n",
              "      <th>AMT_REQ_CREDIT_BUREAU_YEAR</th>\n",
              "    </tr>\n",
              "  </thead>\n",
              "  <tbody>\n",
              "    <tr>\n",
              "      <th>0</th>\n",
              "      <td>100002</td>\n",
              "      <td>1</td>\n",
              "      <td>Cash loans</td>\n",
              "      <td>M</td>\n",
              "      <td>N</td>\n",
              "      <td>Y</td>\n",
              "      <td>0</td>\n",
              "      <td>202500.0</td>\n",
              "      <td>406597.5</td>\n",
              "      <td>24700.5</td>\n",
              "      <td>...</td>\n",
              "      <td>0</td>\n",
              "      <td>0</td>\n",
              "      <td>0</td>\n",
              "      <td>0</td>\n",
              "      <td>0.0</td>\n",
              "      <td>0.0</td>\n",
              "      <td>0.0</td>\n",
              "      <td>0.0</td>\n",
              "      <td>0.0</td>\n",
              "      <td>1.0</td>\n",
              "    </tr>\n",
              "    <tr>\n",
              "      <th>1</th>\n",
              "      <td>100003</td>\n",
              "      <td>0</td>\n",
              "      <td>Cash loans</td>\n",
              "      <td>F</td>\n",
              "      <td>N</td>\n",
              "      <td>N</td>\n",
              "      <td>0</td>\n",
              "      <td>270000.0</td>\n",
              "      <td>1293502.5</td>\n",
              "      <td>35698.5</td>\n",
              "      <td>...</td>\n",
              "      <td>0</td>\n",
              "      <td>0</td>\n",
              "      <td>0</td>\n",
              "      <td>0</td>\n",
              "      <td>0.0</td>\n",
              "      <td>0.0</td>\n",
              "      <td>0.0</td>\n",
              "      <td>0.0</td>\n",
              "      <td>0.0</td>\n",
              "      <td>0.0</td>\n",
              "    </tr>\n",
              "    <tr>\n",
              "      <th>2</th>\n",
              "      <td>100004</td>\n",
              "      <td>0</td>\n",
              "      <td>Revolving loans</td>\n",
              "      <td>M</td>\n",
              "      <td>Y</td>\n",
              "      <td>Y</td>\n",
              "      <td>0</td>\n",
              "      <td>67500.0</td>\n",
              "      <td>135000.0</td>\n",
              "      <td>6750.0</td>\n",
              "      <td>...</td>\n",
              "      <td>0</td>\n",
              "      <td>0</td>\n",
              "      <td>0</td>\n",
              "      <td>0</td>\n",
              "      <td>0.0</td>\n",
              "      <td>0.0</td>\n",
              "      <td>0.0</td>\n",
              "      <td>0.0</td>\n",
              "      <td>0.0</td>\n",
              "      <td>0.0</td>\n",
              "    </tr>\n",
              "    <tr>\n",
              "      <th>3</th>\n",
              "      <td>100006</td>\n",
              "      <td>0</td>\n",
              "      <td>Cash loans</td>\n",
              "      <td>F</td>\n",
              "      <td>N</td>\n",
              "      <td>Y</td>\n",
              "      <td>0</td>\n",
              "      <td>135000.0</td>\n",
              "      <td>312682.5</td>\n",
              "      <td>29686.5</td>\n",
              "      <td>...</td>\n",
              "      <td>0</td>\n",
              "      <td>0</td>\n",
              "      <td>0</td>\n",
              "      <td>0</td>\n",
              "      <td>NaN</td>\n",
              "      <td>NaN</td>\n",
              "      <td>NaN</td>\n",
              "      <td>NaN</td>\n",
              "      <td>NaN</td>\n",
              "      <td>NaN</td>\n",
              "    </tr>\n",
              "    <tr>\n",
              "      <th>4</th>\n",
              "      <td>100007</td>\n",
              "      <td>0</td>\n",
              "      <td>Cash loans</td>\n",
              "      <td>M</td>\n",
              "      <td>N</td>\n",
              "      <td>Y</td>\n",
              "      <td>0</td>\n",
              "      <td>121500.0</td>\n",
              "      <td>513000.0</td>\n",
              "      <td>21865.5</td>\n",
              "      <td>...</td>\n",
              "      <td>0</td>\n",
              "      <td>0</td>\n",
              "      <td>0</td>\n",
              "      <td>0</td>\n",
              "      <td>0.0</td>\n",
              "      <td>0.0</td>\n",
              "      <td>0.0</td>\n",
              "      <td>0.0</td>\n",
              "      <td>0.0</td>\n",
              "      <td>0.0</td>\n",
              "    </tr>\n",
              "  </tbody>\n",
              "</table>\n",
              "<p>5 rows × 122 columns</p>\n",
              "</div>\n",
              "      <button class=\"colab-df-convert\" onclick=\"convertToInteractive('df-d8ce8982-6936-4b5b-a2b9-3345fe7bd020')\"\n",
              "              title=\"Convert this dataframe to an interactive table.\"\n",
              "              style=\"display:none;\">\n",
              "        \n",
              "  <svg xmlns=\"http://www.w3.org/2000/svg\" height=\"24px\"viewBox=\"0 0 24 24\"\n",
              "       width=\"24px\">\n",
              "    <path d=\"M0 0h24v24H0V0z\" fill=\"none\"/>\n",
              "    <path d=\"M18.56 5.44l.94 2.06.94-2.06 2.06-.94-2.06-.94-.94-2.06-.94 2.06-2.06.94zm-11 1L8.5 8.5l.94-2.06 2.06-.94-2.06-.94L8.5 2.5l-.94 2.06-2.06.94zm10 10l.94 2.06.94-2.06 2.06-.94-2.06-.94-.94-2.06-.94 2.06-2.06.94z\"/><path d=\"M17.41 7.96l-1.37-1.37c-.4-.4-.92-.59-1.43-.59-.52 0-1.04.2-1.43.59L10.3 9.45l-7.72 7.72c-.78.78-.78 2.05 0 2.83L4 21.41c.39.39.9.59 1.41.59.51 0 1.02-.2 1.41-.59l7.78-7.78 2.81-2.81c.8-.78.8-2.07 0-2.86zM5.41 20L4 18.59l7.72-7.72 1.47 1.35L5.41 20z\"/>\n",
              "  </svg>\n",
              "      </button>\n",
              "      \n",
              "  <style>\n",
              "    .colab-df-container {\n",
              "      display:flex;\n",
              "      flex-wrap:wrap;\n",
              "      gap: 12px;\n",
              "    }\n",
              "\n",
              "    .colab-df-convert {\n",
              "      background-color: #E8F0FE;\n",
              "      border: none;\n",
              "      border-radius: 50%;\n",
              "      cursor: pointer;\n",
              "      display: none;\n",
              "      fill: #1967D2;\n",
              "      height: 32px;\n",
              "      padding: 0 0 0 0;\n",
              "      width: 32px;\n",
              "    }\n",
              "\n",
              "    .colab-df-convert:hover {\n",
              "      background-color: #E2EBFA;\n",
              "      box-shadow: 0px 1px 2px rgba(60, 64, 67, 0.3), 0px 1px 3px 1px rgba(60, 64, 67, 0.15);\n",
              "      fill: #174EA6;\n",
              "    }\n",
              "\n",
              "    [theme=dark] .colab-df-convert {\n",
              "      background-color: #3B4455;\n",
              "      fill: #D2E3FC;\n",
              "    }\n",
              "\n",
              "    [theme=dark] .colab-df-convert:hover {\n",
              "      background-color: #434B5C;\n",
              "      box-shadow: 0px 1px 3px 1px rgba(0, 0, 0, 0.15);\n",
              "      filter: drop-shadow(0px 1px 2px rgba(0, 0, 0, 0.3));\n",
              "      fill: #FFFFFF;\n",
              "    }\n",
              "  </style>\n",
              "\n",
              "      <script>\n",
              "        const buttonEl =\n",
              "          document.querySelector('#df-d8ce8982-6936-4b5b-a2b9-3345fe7bd020 button.colab-df-convert');\n",
              "        buttonEl.style.display =\n",
              "          google.colab.kernel.accessAllowed ? 'block' : 'none';\n",
              "\n",
              "        async function convertToInteractive(key) {\n",
              "          const element = document.querySelector('#df-d8ce8982-6936-4b5b-a2b9-3345fe7bd020');\n",
              "          const dataTable =\n",
              "            await google.colab.kernel.invokeFunction('convertToInteractive',\n",
              "                                                     [key], {});\n",
              "          if (!dataTable) return;\n",
              "\n",
              "          const docLinkHtml = 'Like what you see? Visit the ' +\n",
              "            '<a target=\"_blank\" href=https://colab.research.google.com/notebooks/data_table.ipynb>data table notebook</a>'\n",
              "            + ' to learn more about interactive tables.';\n",
              "          element.innerHTML = '';\n",
              "          dataTable['output_type'] = 'display_data';\n",
              "          await google.colab.output.renderOutput(dataTable, element);\n",
              "          const docLink = document.createElement('div');\n",
              "          docLink.innerHTML = docLinkHtml;\n",
              "          element.appendChild(docLink);\n",
              "        }\n",
              "      </script>\n",
              "    </div>\n",
              "  </div>\n",
              "  "
            ]
          },
          "metadata": {},
          "execution_count": 4
        }
      ]
    },
    {
      "cell_type": "code",
      "source": [
        "data_train.drop(data_train.columns.difference(['TARGET','NAME_CONTRACT_TYPE','CODE_GENDER',\n",
        "                                               'FLAG_OWN_CAR','FLAG_OWN_REALTY','CNT_CHILDREN',\n",
        "                                               'AMT_INCOME_TOTAL', 'AMT_CREDIT','AMT_ANNUITY',\n",
        "                                               'AMT_GOODS_PRICE','NAME_INCOME_TYPE','NAME_EDUCATION_TYPE',\n",
        "                                               'NAME_FAMILY_STATUS','NAME_HOUSING_TYPE']), 1, inplace=True)"
      ],
      "metadata": {
        "colab": {
          "base_uri": "https://localhost:8080/"
        },
        "id": "U5JkGZc7QEah",
        "outputId": "cb3a5863-6d64-4176-ac2d-7b57f2a7b0c8"
      },
      "execution_count": 5,
      "outputs": [
        {
          "output_type": "stream",
          "name": "stderr",
          "text": [
            "/usr/local/lib/python3.7/dist-packages/ipykernel_launcher.py:5: FutureWarning: In a future version of pandas all arguments of DataFrame.drop except for the argument 'labels' will be keyword-only\n",
            "  \"\"\"\n"
          ]
        }
      ]
    },
    {
      "cell_type": "code",
      "source": [
        "plt.title('Perbandingan Data')\n",
        "sns.countplot(data_train['TARGET'])"
      ],
      "metadata": {
        "colab": {
          "base_uri": "https://localhost:8080/",
          "height": 367
        },
        "id": "TT6faTp_Sn5b",
        "outputId": "14b80ddc-fe50-4f73-9d13-2e029a80b285"
      },
      "execution_count": 6,
      "outputs": [
        {
          "output_type": "stream",
          "name": "stderr",
          "text": [
            "/usr/local/lib/python3.7/dist-packages/seaborn/_decorators.py:43: FutureWarning: Pass the following variable as a keyword arg: x. From version 0.12, the only valid positional argument will be `data`, and passing other arguments without an explicit keyword will result in an error or misinterpretation.\n",
            "  FutureWarning\n"
          ]
        },
        {
          "output_type": "execute_result",
          "data": {
            "text/plain": [
              "<matplotlib.axes._subplots.AxesSubplot at 0x7fbadce76150>"
            ]
          },
          "metadata": {},
          "execution_count": 6
        },
        {
          "output_type": "display_data",
          "data": {
            "text/plain": [
              "<Figure size 432x288 with 1 Axes>"
            ],
            "image/png": "[encoded data removed]"
          },
          "metadata": {
            "needs_background": "light"
          }
        }
      ]
    },
    {
      "cell_type": "code",
      "source": [
        "data_train.info()"
      ],
      "metadata": {
        "colab": {
          "base_uri": "https://localhost:8080/"
        },
        "id": "pLVyJSo5S8Fu",
        "outputId": "6b2982f5-c856-467d-eb2a-adab47b28674"
      },
      "execution_count": 7,
      "outputs": [
        {
          "output_type": "stream",
          "name": "stdout",
          "text": [
            "<class 'pandas.core.frame.DataFrame'>\n",
            "RangeIndex: 307511 entries, 0 to 307510\n",
            "Data columns (total 14 columns):\n",
            " #   Column               Non-Null Count   Dtype  \n",
            "---  ------               --------------   -----  \n",
            " 0   TARGET               307511 non-null  int64  \n",
            " 1   NAME_CONTRACT_TYPE   307511 non-null  object \n",
            " 2   CODE_GENDER          307511 non-null  object \n",
            " 3   FLAG_OWN_CAR         307511 non-null  object \n",
            " 4   FLAG_OWN_REALTY      307511 non-null  object \n",
            " 5   CNT_CHILDREN         307511 non-null  int64  \n",
            " 6   AMT_INCOME_TOTAL     307511 non-null  float64\n",
            " 7   AMT_CREDIT           307511 non-null  float64\n",
            " 8   AMT_ANNUITY          307499 non-null  float64\n",
            " 9   AMT_GOODS_PRICE      307233 non-null  float64\n",
            " 10  NAME_INCOME_TYPE     307511 non-null  object \n",
            " 11  NAME_EDUCATION_TYPE  307511 non-null  object \n",
            " 12  NAME_FAMILY_STATUS   307511 non-null  object \n",
            " 13  NAME_HOUSING_TYPE    307511 non-null  object \n",
            "dtypes: float64(4), int64(2), object(8)\n",
            "memory usage: 32.8+ MB\n"
          ]
        }
      ]
    },
    {
      "cell_type": "code",
      "source": [
        "data_train  = data_train.dropna(subset=['AMT_ANNUITY','AMT_GOODS_PRICE'])"
      ],
      "metadata": {
        "id": "-4UShoCZTL9c"
      },
      "execution_count": 8,
      "outputs": []
    },
    {
      "cell_type": "code",
      "source": [
        "fig, ax = plt.subplots(1,2,figsize=(15,5))\n",
        "sns.countplot(data=data_train, x='TARGET', hue=\"NAME_CONTRACT_TYPE\", ax=ax[0]).set_title(\"NAME_CONTRACT_TYPE distribution\");\n",
        "sns.countplot(data=data_train, x='TARGET', hue='CODE_GENDER', ax=ax[1]).set_title(\"CODE_GENDER distribution\");\n",
        "\n",
        "fig, ax = plt.subplots(1,2,figsize=(15,5))\n",
        "sns.countplot(data=data_train, x='TARGET', hue='FLAG_OWN_CAR', ax=ax[0]).set_title(\"Car Ownership distribution\");\n",
        "sns.countplot(data=data_train, x='TARGET', hue='FLAG_OWN_REALTY', ax=ax[1]).set_title(\"Realty Distribution\");"
      ],
      "metadata": {
        "colab": {
          "base_uri": "https://localhost:8080/",
          "height": 683
        },
        "id": "yb--4D1xUFrB",
        "outputId": "81203845-8f39-4378-edb1-89ae75b0b7b0"
      },
      "execution_count": 9,
      "outputs": [
        {
          "output_type": "display_data",
          "data": {
            "text/plain": [
              "<Figure size 1080x360 with 2 Axes>"
            ],
            "image/png": "[encoded data removed]"
          },
          "metadata": {
            "needs_background": "light"
          }
        },
        {
          "output_type": "display_data",
          "data": {
            "text/plain": [
              "<Figure size 1080x360 with 2 Axes>"
            ],
            "image/png": "[encoded data removed]"
          },
          "metadata": {
            "needs_background": "light"
          }
        }
      ]
    },
    {
      "cell_type": "code",
      "source": [
        "plt.figure(figsize=(15,15))\n",
        "sns.heatmap(data_train.corr())"
      ],
      "metadata": {
        "colab": {
          "base_uri": "https://localhost:8080/",
          "height": 885
        },
        "id": "PjqHPxDTTZEH",
        "outputId": "4d276c62-68c2-496f-9585-a2a73958825f"
      },
      "execution_count": 10,
      "outputs": [
        {
          "output_type": "execute_result",
          "data": {
            "text/plain": [
              "<matplotlib.axes._subplots.AxesSubplot at 0x7fbadce01ad0>"
            ]
          },
          "metadata": {},
          "execution_count": 10
        },
        {
          "output_type": "display_data",
          "data": {
            "text/plain": [
              "<Figure size 1080x1080 with 2 Axes>"
            ],
            "image/png": "[encoded data removed]"
          },
          "metadata": {
            "needs_background": "light"
          }
        }
      ]
    },
    {
      "cell_type": "code",
      "source": [
        "categorical_cols = [col for col in data_train.select_dtypes(include='object').columns.tolist()]"
      ],
      "metadata": {
        "id": "iEhr3w2hUCUE"
      },
      "execution_count": 11,
      "outputs": []
    },
    {
      "cell_type": "code",
      "source": [
        "onehot = pd.get_dummies(data_train[categorical_cols], drop_first=True)\n",
        "onehot.head()"
      ],
      "metadata": {
        "colab": {
          "base_uri": "https://localhost:8080/",
          "height": 317
        },
        "id": "PW9X-csSUmrO",
        "outputId": "285ed2c6-925f-40b6-f61f-d5dd694afdee"
      },
      "execution_count": 12,
      "outputs": [
        {
          "output_type": "execute_result",
          "data": {
            "text/plain": [
              "   NAME_CONTRACT_TYPE_Revolving loans  CODE_GENDER_M  CODE_GENDER_XNA  \\\n",
              "0                                   0              1                0   \n",
              "1                                   0              0                0   \n",
              "2                                   1              1                0   \n",
              "3                                   0              0                0   \n",
              "4                                   0              1                0   \n",
              "\n",
              "   FLAG_OWN_CAR_Y  FLAG_OWN_REALTY_Y  NAME_INCOME_TYPE_Commercial associate  \\\n",
              "0               0                  1                                      0   \n",
              "1               0                  0                                      0   \n",
              "2               1                  1                                      0   \n",
              "3               0                  1                                      0   \n",
              "4               0                  1                                      0   \n",
              "\n",
              "   NAME_INCOME_TYPE_Maternity leave  NAME_INCOME_TYPE_Pensioner  \\\n",
              "0                                 0                           0   \n",
              "1                                 0                           0   \n",
              "2                                 0                           0   \n",
              "3                                 0                           0   \n",
              "4                                 0                           0   \n",
              "\n",
              "   NAME_INCOME_TYPE_State servant  NAME_INCOME_TYPE_Student  ...  \\\n",
              "0                               0                         0  ...   \n",
              "1                               1                         0  ...   \n",
              "2                               0                         0  ...   \n",
              "3                               0                         0  ...   \n",
              "4                               0                         0  ...   \n",
              "\n",
              "   NAME_EDUCATION_TYPE_Secondary / secondary special  \\\n",
              "0                                                  1   \n",
              "1                                                  0   \n",
              "2                                                  1   \n",
              "3                                                  1   \n",
              "4                                                  1   \n",
              "\n",
              "   NAME_FAMILY_STATUS_Married  NAME_FAMILY_STATUS_Separated  \\\n",
              "0                           0                             0   \n",
              "1                           1                             0   \n",
              "2                           0                             0   \n",
              "3                           0                             0   \n",
              "4                           0                             0   \n",
              "\n",
              "   NAME_FAMILY_STATUS_Single / not married  NAME_FAMILY_STATUS_Widow  \\\n",
              "0                                        1                         0   \n",
              "1                                        0                         0   \n",
              "2                                        1                         0   \n",
              "3                                        0                         0   \n",
              "4                                        1                         0   \n",
              "\n",
              "   NAME_HOUSING_TYPE_House / apartment  NAME_HOUSING_TYPE_Municipal apartment  \\\n",
              "0                                    1                                      0   \n",
              "1                                    1                                      0   \n",
              "2                                    1                                      0   \n",
              "3                                    1                                      0   \n",
              "4                                    1                                      0   \n",
              "\n",
              "   NAME_HOUSING_TYPE_Office apartment  NAME_HOUSING_TYPE_Rented apartment  \\\n",
              "0                                   0                                   0   \n",
              "1                                   0                                   0   \n",
              "2                                   0                                   0   \n",
              "3                                   0                                   0   \n",
              "4                                   0                                   0   \n",
              "\n",
              "   NAME_HOUSING_TYPE_With parents  \n",
              "0                               0  \n",
              "1                               0  \n",
              "2                               0  \n",
              "3                               0  \n",
              "4                               0  \n",
              "\n",
              "[5 rows x 25 columns]"
            ],
            "text/html": [
              "\n",
              "  <div id=\"df-7cb5435a-b032-44a3-99d0-d5823ebd2e1e\">\n",
              "    <div class=\"colab-df-container\">\n",
              "      <div>\n",
              "<style scoped>\n",
              "    .dataframe tbody tr th:only-of-type {\n",
              "        vertical-align: middle;\n",
              "    }\n",
              "\n",
              "    .dataframe tbody tr th {\n",
              "        vertical-align: top;\n",
              "    }\n",
              "\n",
              "    .dataframe thead th {\n",
              "        text-align: right;\n",
              "    }\n",
              "</style>\n",
              "<table border=\"1\" class=\"dataframe\">\n",
              "  <thead>\n",
              "    <tr style=\"text-align: right;\">\n",
              "      <th></th>\n",
              "      <th>NAME_CONTRACT_TYPE_Revolving loans</th>\n",
              "      <th>CODE_GENDER_M</th>\n",
              "      <th>CODE_GENDER_XNA</th>\n",
              "      <th>FLAG_OWN_CAR_Y</th>\n",
              "      <th>FLAG_OWN_REALTY_Y</th>\n",
              "      <th>NAME_INCOME_TYPE_Commercial associate</th>\n",
              "      <th>NAME_INCOME_TYPE_Maternity leave</th>\n",
              "      <th>NAME_INCOME_TYPE_Pensioner</th>\n",
              "      <th>NAME_INCOME_TYPE_State servant</th>\n",
              "      <th>NAME_INCOME_TYPE_Student</th>\n",
              "      <th>...</th>\n",
              "      <th>NAME_EDUCATION_TYPE_Secondary / secondary special</th>\n",
              "      <th>NAME_FAMILY_STATUS_Married</th>\n",
              "      <th>NAME_FAMILY_STATUS_Separated</th>\n",
              "      <th>NAME_FAMILY_STATUS_Single / not married</th>\n",
              "      <th>NAME_FAMILY_STATUS_Widow</th>\n",
              "      <th>NAME_HOUSING_TYPE_House / apartment</th>\n",
              "      <th>NAME_HOUSING_TYPE_Municipal apartment</th>\n",
              "      <th>NAME_HOUSING_TYPE_Office apartment</th>\n",
              "      <th>NAME_HOUSING_TYPE_Rented apartment</th>\n",
              "      <th>NAME_HOUSING_TYPE_With parents</th>\n",
              "    </tr>\n",
              "  </thead>\n",
              "  <tbody>\n",
              "    <tr>\n",
              "      <th>0</th>\n",
              "      <td>0</td>\n",
              "      <td>1</td>\n",
              "      <td>0</td>\n",
              "      <td>0</td>\n",
              "      <td>1</td>\n",
              "      <td>0</td>\n",
              "      <td>0</td>\n",
              "      <td>0</td>\n",
              "      <td>0</td>\n",
              "      <td>0</td>\n",
              "      <td>...</td>\n",
              "      <td>1</td>\n",
              "      <td>0</td>\n",
              "      <td>0</td>\n",
              "      <td>1</td>\n",
              "      <td>0</td>\n",
              "      <td>1</td>\n",
              "      <td>0</td>\n",
              "      <td>0</td>\n",
              "      <td>0</td>\n",
              "      <td>0</td>\n",
              "    </tr>\n",
              "    <tr>\n",
              "      <th>1</th>\n",
              "      <td>0</td>\n",
              "      <td>0</td>\n",
              "      <td>0</td>\n",
              "      <td>0</td>\n",
              "      <td>0</td>\n",
              "      <td>0</td>\n",
              "      <td>0</td>\n",
              "      <td>0</td>\n",
              "      <td>1</td>\n",
              "      <td>0</td>\n",
              "      <td>...</td>\n",
              "      <td>0</td>\n",
              "      <td>1</td>\n",
              "      <td>0</td>\n",
              "      <td>0</td>\n",
              "      <td>0</td>\n",
              "      <td>1</td>\n",
              "      <td>0</td>\n",
              "      <td>0</td>\n",
              "      <td>0</td>\n",
              "      <td>0</td>\n",
              "    </tr>\n",
              "    <tr>\n",
              "      <th>2</th>\n",
              "      <td>1</td>\n",
              "      <td>1</td>\n",
              "      <td>0</td>\n",
              "      <td>1</td>\n",
              "      <td>1</td>\n",
              "      <td>0</td>\n",
              "      <td>0</td>\n",
              "      <td>0</td>\n",
              "      <td>0</td>\n",
              "      <td>0</td>\n",
              "      <td>...</td>\n",
              "      <td>1</td>\n",
              "      <td>0</td>\n",
              "      <td>0</td>\n",
              "      <td>1</td>\n",
              "      <td>0</td>\n",
              "      <td>1</td>\n",
              "      <td>0</td>\n",
              "      <td>0</td>\n",
              "      <td>0</td>\n",
              "      <td>0</td>\n",
              "    </tr>\n",
              "    <tr>\n",
              "      <th>3</th>\n",
              "      <td>0</td>\n",
              "      <td>0</td>\n",
              "      <td>0</td>\n",
              "      <td>0</td>\n",
              "      <td>1</td>\n",
              "      <td>0</td>\n",
              "      <td>0</td>\n",
              "      <td>0</td>\n",
              "      <td>0</td>\n",
              "      <td>0</td>\n",
              "      <td>...</td>\n",
              "      <td>1</td>\n",
              "      <td>0</td>\n",
              "      <td>0</td>\n",
              "      <td>0</td>\n",
              "      <td>0</td>\n",
              "      <td>1</td>\n",
              "      <td>0</td>\n",
              "      <td>0</td>\n",
              "      <td>0</td>\n",
              "      <td>0</td>\n",
              "    </tr>\n",
              "    <tr>\n",
              "      <th>4</th>\n",
              "      <td>0</td>\n",
              "      <td>1</td>\n",
              "      <td>0</td>\n",
              "      <td>0</td>\n",
              "      <td>1</td>\n",
              "      <td>0</td>\n",
              "      <td>0</td>\n",
              "      <td>0</td>\n",
              "      <td>0</td>\n",
              "      <td>0</td>\n",
              "      <td>...</td>\n",
              "      <td>1</td>\n",
              "      <td>0</td>\n",
              "      <td>0</td>\n",
              "      <td>1</td>\n",
              "      <td>0</td>\n",
              "      <td>1</td>\n",
              "      <td>0</td>\n",
              "      <td>0</td>\n",
              "      <td>0</td>\n",
              "      <td>0</td>\n",
              "    </tr>\n",
              "  </tbody>\n",
              "</table>\n",
              "<p>5 rows × 25 columns</p>\n",
              "</div>\n",
              "      <button class=\"colab-df-convert\" onclick=\"convertToInteractive('df-7cb5435a-b032-44a3-99d0-d5823ebd2e1e')\"\n",
              "              title=\"Convert this dataframe to an interactive table.\"\n",
              "              style=\"display:none;\">\n",
              "        \n",
              "  <svg xmlns=\"http://www.w3.org/2000/svg\" height=\"24px\"viewBox=\"0 0 24 24\"\n",
              "       width=\"24px\">\n",
              "    <path d=\"M0 0h24v24H0V0z\" fill=\"none\"/>\n",
              "    <path d=\"M18.56 5.44l.94 2.06.94-2.06 2.06-.94-2.06-.94-.94-2.06-.94 2.06-2.06.94zm-11 1L8.5 8.5l.94-2.06 2.06-.94-2.06-.94L8.5 2.5l-.94 2.06-2.06.94zm10 10l.94 2.06.94-2.06 2.06-.94-2.06-.94-.94-2.06-.94 2.06-2.06.94z\"/><path d=\"M17.41 7.96l-1.37-1.37c-.4-.4-.92-.59-1.43-.59-.52 0-1.04.2-1.43.59L10.3 9.45l-7.72 7.72c-.78.78-.78 2.05 0 2.83L4 21.41c.39.39.9.59 1.41.59.51 0 1.02-.2 1.41-.59l7.78-7.78 2.81-2.81c.8-.78.8-2.07 0-2.86zM5.41 20L4 18.59l7.72-7.72 1.47 1.35L5.41 20z\"/>\n",
              "  </svg>\n",
              "      </button>\n",
              "      \n",
              "  <style>\n",
              "    .colab-df-container {\n",
              "      display:flex;\n",
              "      flex-wrap:wrap;\n",
              "      gap: 12px;\n",
              "    }\n",
              "\n",
              "    .colab-df-convert {\n",
              "      background-color: #E8F0FE;\n",
              "      border: none;\n",
              "      border-radius: 50%;\n",
              "      cursor: pointer;\n",
              "      display: none;\n",
              "      fill: #1967D2;\n",
              "      height: 32px;\n",
              "      padding: 0 0 0 0;\n",
              "      width: 32px;\n",
              "    }\n",
              "\n",
              "    .colab-df-convert:hover {\n",
              "      background-color: #E2EBFA;\n",
              "      box-shadow: 0px 1px 2px rgba(60, 64, 67, 0.3), 0px 1px 3px 1px rgba(60, 64, 67, 0.15);\n",
              "      fill: #174EA6;\n",
              "    }\n",
              "\n",
              "    [theme=dark] .colab-df-convert {\n",
              "      background-color: #3B4455;\n",
              "      fill: #D2E3FC;\n",
              "    }\n",
              "\n",
              "    [theme=dark] .colab-df-convert:hover {\n",
              "      background-color: #434B5C;\n",
              "      box-shadow: 0px 1px 3px 1px rgba(0, 0, 0, 0.15);\n",
              "      filter: drop-shadow(0px 1px 2px rgba(0, 0, 0, 0.3));\n",
              "      fill: #FFFFFF;\n",
              "    }\n",
              "  </style>\n",
              "\n",
              "      <script>\n",
              "        const buttonEl =\n",
              "          document.querySelector('#df-7cb5435a-b032-44a3-99d0-d5823ebd2e1e button.colab-df-convert');\n",
              "        buttonEl.style.display =\n",
              "          google.colab.kernel.accessAllowed ? 'block' : 'none';\n",
              "\n",
              "        async function convertToInteractive(key) {\n",
              "          const element = document.querySelector('#df-7cb5435a-b032-44a3-99d0-d5823ebd2e1e');\n",
              "          const dataTable =\n",
              "            await google.colab.kernel.invokeFunction('convertToInteractive',\n",
              "                                                     [key], {});\n",
              "          if (!dataTable) return;\n",
              "\n",
              "          const docLinkHtml = 'Like what you see? Visit the ' +\n",
              "            '<a target=\"_blank\" href=https://colab.research.google.com/notebooks/data_table.ipynb>data table notebook</a>'\n",
              "            + ' to learn more about interactive tables.';\n",
              "          element.innerHTML = '';\n",
              "          dataTable['output_type'] = 'display_data';\n",
              "          await google.colab.output.renderOutput(dataTable, element);\n",
              "          const docLink = document.createElement('div');\n",
              "          docLink.innerHTML = docLinkHtml;\n",
              "          element.appendChild(docLink);\n",
              "        }\n",
              "      </script>\n",
              "    </div>\n",
              "  </div>\n",
              "  "
            ]
          },
          "metadata": {},
          "execution_count": 12
        }
      ]
    },
    {
      "cell_type": "code",
      "source": [
        "data_latih = pd.concat([onehot, data_train[['CNT_CHILDREN',\t'AMT_INCOME_TOTAL',\t'AMT_CREDIT','TARGET']]], axis=1)"
      ],
      "metadata": {
        "id": "6xevA3oCYk5C"
      },
      "execution_count": 22,
      "outputs": []
    },
    {
      "cell_type": "code",
      "source": [
        "data_latih.isnull().sum()"
      ],
      "metadata": {
        "colab": {
          "base_uri": "https://localhost:8080/"
        },
        "id": "v91kuLxKV-mi",
        "outputId": "9fbb3088-eb1b-486e-f058-8971a99b7824"
      },
      "execution_count": 23,
      "outputs": [
        {
          "output_type": "execute_result",
          "data": {
            "text/plain": [
              "NAME_CONTRACT_TYPE_Revolving loans                   0\n",
              "CODE_GENDER_M                                        0\n",
              "CODE_GENDER_XNA                                      0\n",
              "FLAG_OWN_CAR_Y                                       0\n",
              "FLAG_OWN_REALTY_Y                                    0\n",
              "NAME_INCOME_TYPE_Commercial associate                0\n",
              "NAME_INCOME_TYPE_Maternity leave                     0\n",
              "NAME_INCOME_TYPE_Pensioner                           0\n",
              "NAME_INCOME_TYPE_State servant                       0\n",
              "NAME_INCOME_TYPE_Student                             0\n",
              "NAME_INCOME_TYPE_Unemployed                          0\n",
              "NAME_INCOME_TYPE_Working                             0\n",
              "NAME_EDUCATION_TYPE_Higher education                 0\n",
              "NAME_EDUCATION_TYPE_Incomplete higher                0\n",
              "NAME_EDUCATION_TYPE_Lower secondary                  0\n",
              "NAME_EDUCATION_TYPE_Secondary / secondary special    0\n",
              "NAME_FAMILY_STATUS_Married                           0\n",
              "NAME_FAMILY_STATUS_Separated                         0\n",
              "NAME_FAMILY_STATUS_Single / not married              0\n",
              "NAME_FAMILY_STATUS_Widow                             0\n",
              "NAME_HOUSING_TYPE_House / apartment                  0\n",
              "NAME_HOUSING_TYPE_Municipal apartment                0\n",
              "NAME_HOUSING_TYPE_Office apartment                   0\n",
              "NAME_HOUSING_TYPE_Rented apartment                   0\n",
              "NAME_HOUSING_TYPE_With parents                       0\n",
              "CNT_CHILDREN                                         0\n",
              "AMT_INCOME_TOTAL                                     0\n",
              "AMT_CREDIT                                           0\n",
              "TARGET                                               0\n",
              "dtype: int64"
            ]
          },
          "metadata": {},
          "execution_count": 23
        }
      ]
    },
    {
      "cell_type": "code",
      "source": [
        "data_latih.info()"
      ],
      "metadata": {
        "colab": {
          "base_uri": "https://localhost:8080/"
        },
        "id": "j1Nwy8JEYNig",
        "outputId": "91e9d1b4-b83b-4027-993a-bb4d66249763"
      },
      "execution_count": 24,
      "outputs": [
        {
          "output_type": "stream",
          "name": "stdout",
          "text": [
            "<class 'pandas.core.frame.DataFrame'>\n",
            "Int64Index: 307221 entries, 0 to 307510\n",
            "Data columns (total 14 columns):\n",
            " #   Column               Non-Null Count   Dtype  \n",
            "---  ------               --------------   -----  \n",
            " 0   TARGET               307221 non-null  int64  \n",
            " 1   NAME_CONTRACT_TYPE   307221 non-null  object \n",
            " 2   CODE_GENDER          307221 non-null  object \n",
            " 3   FLAG_OWN_CAR         307221 non-null  object \n",
            " 4   FLAG_OWN_REALTY      307221 non-null  object \n",
            " 5   CNT_CHILDREN         307221 non-null  int64  \n",
            " 6   AMT_INCOME_TOTAL     307221 non-null  float64\n",
            " 7   AMT_CREDIT           307221 non-null  float64\n",
            " 8   AMT_ANNUITY          307221 non-null  float64\n",
            " 9   AMT_GOODS_PRICE      307221 non-null  float64\n",
            " 10  NAME_INCOME_TYPE     307221 non-null  object \n",
            " 11  NAME_EDUCATION_TYPE  307221 non-null  object \n",
            " 12  NAME_FAMILY_STATUS   307221 non-null  object \n",
            " 13  NAME_HOUSING_TYPE    307221 non-null  object \n",
            "dtypes: float64(4), int64(2), object(8)\n",
            "memory usage: 43.2+ MB\n"
          ]
        }
      ]
    },
    {
      "cell_type": "code",
      "source": [
        "X = data_latih.drop('TARGET', axis=1)\n",
        "y = data_latih['TARGET']\n",
        "\n",
        "X_train, X_test, y_train, y_test = train_test_split(X, y, test_size=0.3, random_state=42)"
      ],
      "metadata": {
        "id": "nOyYXVtnWFV6"
      },
      "execution_count": 25,
      "outputs": []
    },
    {
      "cell_type": "code",
      "source": [
        "from sklearn.metrics import classification_report, f1_score, accuracy_score, precision_score, recall_score, f1_score, confusion_matrix, roc_curve, auc, roc_auc_score"
      ],
      "metadata": {
        "id": "kTN5Jf2eXOvw"
      },
      "execution_count": 26,
      "outputs": []
    },
    {
      "cell_type": "code",
      "source": [
        "def finalize(X,y,model): #Menampilkan hasil evaluasi dan menyimpan model (optional)\n",
        "\n",
        "#X = data text yang sudah dilakukan vectorization\n",
        "#y = label\n",
        "#model = Objek model yang sudah dilakukan training\n",
        "  y_predict = model.predict(X)\n",
        "  y_prob = model.predict_proba(X)[:,1]\n",
        "  fpr, tpr, thresholds = roc_curve(y, y_prob)\n",
        "  roc_auc = auc(fpr, tpr)\n",
        "  acc = accuracy_score(y,y_predict)\n",
        "  prec = precision_score(y,y_predict)\n",
        "  rec = recall_score(y,y_predict)\n",
        "  f1 = f1_score(y,y_predict)\n",
        "  cm = confusion_matrix(y, y_predict)\n",
        "  tn, fp, fn, tp = cm.ravel()\n",
        "\n",
        "  print('================================================\\nEvaluasi Hasil Model\\n================================================\\n')\n",
        "  print('Dengan Classification Report:\\n\\n', classification_report(y,y_predict))\n",
        "  print('================================================')\n",
        "  print('\\nDengan Confusion Matrix:\\n\\n',cm)\n",
        "  print('\\nTrue Positif   : ', tp)\n",
        "  print('True Negatif   : ', tn)\n",
        "  print('False Positif  : ', fp)\n",
        "  print('False Negatif  : ', fn)\n",
        "  print('\\n================================================')\n",
        "  print('\\nDengan Beberapa Metrik:')\n",
        "  print('\\nAUC      : ', roc_auc)\n",
        "  print('Akurasi  : ', acc)\n",
        "  print('Presisi  : ', prec)\n",
        "  print('Recall   : ', rec)\n",
        "  print('F1-score : ', f1)"
      ],
      "metadata": {
        "id": "zLh5Prd4WzyF"
      },
      "execution_count": 27,
      "outputs": []
    },
    {
      "cell_type": "code",
      "source": [
        "lr = LogisticRegression(solver = 'liblinear', C=10, penalty = 'l2')\n",
        "lr.fit(X_train, y_train)"
      ],
      "metadata": {
        "colab": {
          "base_uri": "https://localhost:8080/"
        },
        "id": "XnVt-kR2WUrW",
        "outputId": "3de168c4-65d9-4e47-bbb0-2f2c5bf55c5c"
      },
      "execution_count": 28,
      "outputs": [
        {
          "output_type": "execute_result",
          "data": {
            "text/plain": [
              "LogisticRegression(C=10, solver='liblinear')"
            ]
          },
          "metadata": {},
          "execution_count": 28
        }
      ]
    },
    {
      "cell_type": "code",
      "source": [
        "finalize(X_test,y_test,lr)"
      ],
      "metadata": {
        "colab": {
          "base_uri": "https://localhost:8080/"
        },
        "id": "BF7XxIElWrgR",
        "outputId": "77f61dec-8fbc-4dc2-ace4-ba89ad6f731f"
      },
      "execution_count": 29,
      "outputs": [
        {
          "output_type": "stream",
          "name": "stderr",
          "text": [
            "/usr/local/lib/python3.7/dist-packages/sklearn/metrics/_classification.py:1318: UndefinedMetricWarning: Precision is ill-defined and being set to 0.0 due to no predicted samples. Use `zero_division` parameter to control this behavior.\n",
            "  _warn_prf(average, modifier, msg_start, len(result))\n",
            "/usr/local/lib/python3.7/dist-packages/sklearn/metrics/_classification.py:1318: UndefinedMetricWarning: Precision and F-score are ill-defined and being set to 0.0 in labels with no predicted samples. Use `zero_division` parameter to control this behavior.\n",
            "  _warn_prf(average, modifier, msg_start, len(result))\n"
          ]
        },
        {
          "output_type": "stream",
          "name": "stdout",
          "text": [
            "================================================\n",
            "Evaluasi Hasil Model\n",
            "================================================\n",
            "\n",
            "Dengan Classification Report:\n",
            "\n",
            "               precision    recall  f1-score   support\n",
            "\n",
            "           0       0.92      1.00      0.96     84583\n",
            "           1       0.00      0.00      0.00      7584\n",
            "\n",
            "    accuracy                           0.92     92167\n",
            "   macro avg       0.46      0.50      0.48     92167\n",
            "weighted avg       0.84      0.92      0.88     92167\n",
            "\n",
            "================================================\n",
            "\n",
            "Dengan Confusion Matrix:\n",
            "\n",
            " [[84583     0]\n",
            " [ 7584     0]]\n",
            "\n",
            "True Positif   :  0\n",
            "True Negatif   :  84583\n",
            "False Positif  :  0\n",
            "False Negatif  :  7584\n",
            "\n",
            "================================================\n",
            "\n",
            "Dengan Beberapa Metrik:\n",
            "\n",
            "AUC      :  0.5219480170614628\n",
            "Akurasi  :  0.9177145833107294\n",
            "Presisi  :  0.0\n",
            "Recall   :  0.0\n",
            "F1-score :  0.0\n"
          ]
        },
        {
          "output_type": "stream",
          "name": "stderr",
          "text": [
            "/usr/local/lib/python3.7/dist-packages/sklearn/metrics/_classification.py:1318: UndefinedMetricWarning: Precision and F-score are ill-defined and being set to 0.0 in labels with no predicted samples. Use `zero_division` parameter to control this behavior.\n",
            "  _warn_prf(average, modifier, msg_start, len(result))\n",
            "/usr/local/lib/python3.7/dist-packages/sklearn/metrics/_classification.py:1318: UndefinedMetricWarning: Precision and F-score are ill-defined and being set to 0.0 in labels with no predicted samples. Use `zero_division` parameter to control this behavior.\n",
            "  _warn_prf(average, modifier, msg_start, len(result))\n"
          ]
        }
      ]
    },
    {
      "cell_type": "code",
      "source": [
        "from sklearn.naive_bayes import BernoulliNB"
      ],
      "metadata": {
        "id": "PV5C5L5SWRD8"
      },
      "execution_count": 30,
      "outputs": []
    },
    {
      "cell_type": "code",
      "source": [
        "nb = BernoulliNB()\n",
        "nb.fit(X_train, y_train)"
      ],
      "metadata": {
        "colab": {
          "base_uri": "https://localhost:8080/"
        },
        "id": "Di8gyKX6WTyh",
        "outputId": "00d26ed2-ff68-4d8c-aa64-8daf72f966a2"
      },
      "execution_count": 31,
      "outputs": [
        {
          "output_type": "execute_result",
          "data": {
            "text/plain": [
              "BernoulliNB()"
            ]
          },
          "metadata": {},
          "execution_count": 31
        }
      ]
    },
    {
      "cell_type": "code",
      "source": [
        "finalize(X_test,y_test,nb)"
      ],
      "metadata": {
        "colab": {
          "base_uri": "https://localhost:8080/"
        },
        "id": "trFbl5UyWtoR",
        "outputId": "e15ba626-3ab7-4d49-98e7-0fbe188d4dac"
      },
      "execution_count": 32,
      "outputs": [
        {
          "output_type": "stream",
          "name": "stdout",
          "text": [
            "================================================\n",
            "Evaluasi Hasil Model\n",
            "================================================\n",
            "\n",
            "Dengan Classification Report:\n",
            "\n",
            "               precision    recall  f1-score   support\n",
            "\n",
            "           0       0.92      1.00      0.96     84583\n",
            "           1       0.00      0.00      0.00      7584\n",
            "\n",
            "    accuracy                           0.92     92167\n",
            "   macro avg       0.46      0.50      0.48     92167\n",
            "weighted avg       0.84      0.92      0.88     92167\n",
            "\n",
            "================================================\n",
            "\n",
            "Dengan Confusion Matrix:\n",
            "\n",
            " [[84582     1]\n",
            " [ 7584     0]]\n",
            "\n",
            "True Positif   :  0\n",
            "True Negatif   :  84582\n",
            "False Positif  :  1\n",
            "False Negatif  :  7584\n",
            "\n",
            "================================================\n",
            "\n",
            "Dengan Beberapa Metrik:\n",
            "\n",
            "AUC      :  0.6167176156109813\n",
            "Akurasi  :  0.9177037334403854\n",
            "Presisi  :  0.0\n",
            "Recall   :  0.0\n",
            "F1-score :  0.0\n"
          ]
        }
      ]
    }
  ]
}